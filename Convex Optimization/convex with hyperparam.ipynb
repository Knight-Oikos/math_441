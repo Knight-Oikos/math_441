{
 "cells": [
  {
   "cell_type": "code",
   "execution_count": 1,
   "id": "40dd49e5-8d06-4f1d-90ba-172146317a97",
   "metadata": {},
   "outputs": [
    {
     "name": "stdout",
     "output_type": "stream",
     "text": [
      "Requirement already satisfied: mglearn in /opt/conda/lib/python3.12/site-packages (0.2.0)\n",
      "Requirement already satisfied: numpy in /opt/conda/lib/python3.12/site-packages (from mglearn) (1.26.4)\n",
      "Requirement already satisfied: matplotlib in /opt/conda/lib/python3.12/site-packages (from mglearn) (3.8.4)\n",
      "Requirement already satisfied: scikit-learn in /opt/conda/lib/python3.12/site-packages (from mglearn) (1.6.0)\n",
      "Requirement already satisfied: pandas in /opt/conda/lib/python3.12/site-packages (from mglearn) (2.2.3)\n",
      "Requirement already satisfied: pillow in /opt/conda/lib/python3.12/site-packages (from mglearn) (10.4.0)\n",
      "Requirement already satisfied: cycler in /opt/conda/lib/python3.12/site-packages (from mglearn) (0.12.1)\n",
      "Requirement already satisfied: imageio in /opt/conda/lib/python3.12/site-packages (from mglearn) (2.36.1)\n",
      "Requirement already satisfied: joblib in /opt/conda/lib/python3.12/site-packages (from mglearn) (1.4.2)\n",
      "Requirement already satisfied: contourpy>=1.0.1 in /opt/conda/lib/python3.12/site-packages (from matplotlib->mglearn) (1.3.1)\n",
      "Requirement already satisfied: fonttools>=4.22.0 in /opt/conda/lib/python3.12/site-packages (from matplotlib->mglearn) (4.55.3)\n",
      "Requirement already satisfied: kiwisolver>=1.3.1 in /opt/conda/lib/python3.12/site-packages (from matplotlib->mglearn) (1.4.7)\n",
      "Requirement already satisfied: packaging>=20.0 in /opt/conda/lib/python3.12/site-packages (from matplotlib->mglearn) (24.2)\n",
      "Requirement already satisfied: pyparsing>=2.3.1 in /opt/conda/lib/python3.12/site-packages (from matplotlib->mglearn) (3.2.0)\n",
      "Requirement already satisfied: python-dateutil>=2.7 in /opt/conda/lib/python3.12/site-packages (from matplotlib->mglearn) (2.9.0.post0)\n",
      "Requirement already satisfied: pytz>=2020.1 in /opt/conda/lib/python3.12/site-packages (from pandas->mglearn) (2024.1)\n",
      "Requirement already satisfied: tzdata>=2022.7 in /opt/conda/lib/python3.12/site-packages (from pandas->mglearn) (2024.2)\n",
      "Requirement already satisfied: scipy>=1.6.0 in /opt/conda/lib/python3.12/site-packages (from scikit-learn->mglearn) (1.14.1)\n",
      "Requirement already satisfied: threadpoolctl>=3.1.0 in /opt/conda/lib/python3.12/site-packages (from scikit-learn->mglearn) (3.5.0)\n",
      "Requirement already satisfied: six>=1.5 in /opt/conda/lib/python3.12/site-packages (from python-dateutil>=2.7->matplotlib->mglearn) (1.17.0)\n",
      "Note: you may need to restart the kernel to use updated packages.\n",
      "Requirement already satisfied: cvxpy in /opt/conda/lib/python3.12/site-packages (1.6.4)\n",
      "Requirement already satisfied: osqp>=0.6.2 in /opt/conda/lib/python3.12/site-packages (from cvxpy) (1.0.1)\n",
      "Requirement already satisfied: clarabel>=0.5.0 in /opt/conda/lib/python3.12/site-packages (from cvxpy) (0.10.0)\n",
      "Requirement already satisfied: scs>=3.2.4.post1 in /opt/conda/lib/python3.12/site-packages (from cvxpy) (3.2.7.post2)\n",
      "Requirement already satisfied: numpy>=1.21.6 in /opt/conda/lib/python3.12/site-packages (from cvxpy) (1.26.4)\n",
      "Requirement already satisfied: scipy>=1.11.0 in /opt/conda/lib/python3.12/site-packages (from cvxpy) (1.14.1)\n",
      "Requirement already satisfied: jinja2 in /opt/conda/lib/python3.12/site-packages (from osqp>=0.6.2->cvxpy) (3.1.4)\n",
      "Requirement already satisfied: setuptools in /opt/conda/lib/python3.12/site-packages (from osqp>=0.6.2->cvxpy) (75.6.0)\n",
      "Requirement already satisfied: joblib in /opt/conda/lib/python3.12/site-packages (from osqp>=0.6.2->cvxpy) (1.4.2)\n",
      "Requirement already satisfied: MarkupSafe>=2.0 in /opt/conda/lib/python3.12/site-packages (from jinja2->osqp>=0.6.2->cvxpy) (3.0.2)\n",
      "Note: you may need to restart the kernel to use updated packages.\n"
     ]
    }
   ],
   "source": [
    "%pip install mglearn\n",
    "%pip install cvxpy"
   ]
  },
  {
   "cell_type": "code",
   "execution_count": 2,
   "id": "83010dd4-0df4-4b30-b9e1-ff2db23ec6cb",
   "metadata": {},
   "outputs": [],
   "source": [
    "#Libraries\n",
    "import numpy as np\n",
    "import matplotlib.pyplot as plt\n",
    "import scipy.linalg as la\n",
    "import pandas as pd\n",
    "import cvxpy as cp\n",
    "import mglearn\n",
    "import math\n",
    "from sklearn.preprocessing import MinMaxScaler"
   ]
  },
  {
   "cell_type": "code",
   "execution_count": 3,
   "id": "ced3cc5a-e6da-4849-a3b0-a1f5c11a1461",
   "metadata": {},
   "outputs": [
    {
     "name": "stdout",
     "output_type": "stream",
     "text": [
      "Index(['packet_size', 'transmission_time', 'latency', 'jitter', 'packet_loss',\n",
      "       'network_load', 'throughput', 'bandwidth_usage', 'encryption_time',\n",
      "       'decryption_time', 'key_size', 'block_size', 'cpu_usage',\n",
      "       'memory_usage', 'encryption_strength', 'error_rate',\n",
      "       'integrity_check_time', 'retransmission_count', 'packet_order',\n",
      "       'traffic_type'],\n",
      "      dtype='object')\n"
     ]
    }
   ],
   "source": [
    "#read data into a var and print column names\n",
    "enc_data = pd.read_csv('traffic_encryption_data.csv')\n",
    "print(enc_data.columns)"
   ]
  },
  {
   "cell_type": "code",
   "execution_count": 4,
   "id": "68bc7188-5265-4beb-b757-8ae7dab21097",
   "metadata": {},
   "outputs": [
    {
     "name": "stdout",
     "output_type": "stream",
     "text": [
      "      encryption_time  encryption_strength  error_rate  integrity_check_time  \\\n",
      "0            7.247682                    5    1.021120              0.405453   \n",
      "1            4.867058                    7    0.026064              0.878333   \n",
      "2            3.618133                    8    0.361215              0.949209   \n",
      "3            5.432145                    4    0.995241              1.711475   \n",
      "4            4.559455                    2    1.505134              4.173365   \n",
      "...               ...                  ...         ...                   ...   \n",
      "2995         8.571986                    3    0.966220              3.715642   \n",
      "2996         9.653815                    7    1.311826              4.499620   \n",
      "2997         7.007885                   10    1.922128              1.705988   \n",
      "2998         3.612489                    4    0.050092              4.889710   \n",
      "2999         3.431766                    1    1.352565              2.066367   \n",
      "\n",
      "      cpu_usage  memory_usage  \n",
      "0     50.328714    256.570542  \n",
      "1     68.010697    827.419894  \n",
      "2     76.149283    591.328406  \n",
      "3     26.301950    407.492224  \n",
      "4     27.457379    647.510001  \n",
      "...         ...           ...  \n",
      "2995  24.825737    305.076768  \n",
      "2996  34.073538    312.316160  \n",
      "2997  37.858954    791.207325  \n",
      "2998  25.003383    116.820807  \n",
      "2999  10.972916    801.019056  \n",
      "\n",
      "[3000 rows x 6 columns]\n"
     ]
    }
   ],
   "source": [
    "#selected columns coppied\n",
    "selected_cols = ['encryption_time', 'encryption_strength', 'error_rate', 'integrity_check_time', 'cpu_usage',\n",
    "       'memory_usage']\n",
    "clean_enc_data = enc_data[selected_cols]\n",
    "print(clean_enc_data)"
   ]
  },
  {
   "cell_type": "code",
   "execution_count": 5,
   "id": "ef928475-be3a-437f-ac18-07782993a6c4",
   "metadata": {},
   "outputs": [
    {
     "data": {
      "text/plain": [
       "\"\\nenc_times = clean_enc_data['encryption_time'].copy()\\nenc_strengths = clean_enc_data['encryption_strength'].copy()\\nerr_rates = clean_enc_data['error_rate'].copy()\\ninteg_times = clean_enc_data['integrity_check_time'].copy()\\ncpu_usages = clean_enc_data['cpu_usage'].copy()\\nmem_usages = clean_enc_data['memory_usage'].copy()\\n\""
      ]
     },
     "execution_count": 5,
     "metadata": {},
     "output_type": "execute_result"
    }
   ],
   "source": [
    "#may need to normalize this apparently does it \n",
    "scaler = MinMaxScaler()\n",
    "normalized = pd.DataFrame(scaler.fit_transform(clean_enc_data), columns=selected_cols)\n",
    "\n",
    "#define varaibles\n",
    "#normalized\n",
    "enc_times = normalized['encryption_time'].values\n",
    "enc_strengths = normalized['encryption_strength'].values\n",
    "err_rates = normalized['error_rate'].values\n",
    "integ_times = normalized['integrity_check_time'].values\n",
    "cpu_usages = normalized['cpu_usage'].values\n",
    "mem_usages = normalized['memory_usage'].values\n",
    "#not normalized\n",
    "'''\n",
    "enc_times = clean_enc_data['encryption_time'].copy()\n",
    "enc_strengths = clean_enc_data['encryption_strength'].copy()\n",
    "err_rates = clean_enc_data['error_rate'].copy()\n",
    "integ_times = clean_enc_data['integrity_check_time'].copy()\n",
    "cpu_usages = clean_enc_data['cpu_usage'].copy()\n",
    "mem_usages = clean_enc_data['memory_usage'].copy()\n",
    "'''\n"
   ]
  },
  {
   "cell_type": "code",
   "execution_count": 6,
   "id": "83eef06f-952b-4e05-8f0b-a61b0e385532",
   "metadata": {},
   "outputs": [
    {
     "name": "stdout",
     "output_type": "stream",
     "text": [
      "   lam_1  lam_2  lam_3  gamma  alpha  min_cost  nonzero_configs  \\\n",
      "0    0.1    0.1    0.1   0.01    0.1  0.101805               61   \n",
      "1    0.1    0.1    0.1   0.01    0.5  0.501798               61   \n",
      "2    0.1    0.1    0.1   0.01    1.5  1.501914               61   \n",
      "3    0.1    0.1    0.1   0.10    0.1  0.109675               30   \n",
      "4    0.1    0.1    0.1   0.10    0.5  0.509089               30   \n",
      "\n",
      "                                      chosen_configs  \\\n",
      "0  [25, 49, 162, 237, 405, 415, 544, 643, 656, 66...   \n",
      "1  [25, 49, 162, 237, 405, 415, 544, 643, 656, 66...   \n",
      "2  [25, 49, 162, 237, 405, 415, 544, 643, 656, 66...   \n",
      "3  [49, 405, 415, 544, 656, 663, 951, 1105, 1389,...   \n",
      "4  [49, 405, 415, 544, 656, 663, 951, 1105, 1389,...   \n",
      "\n",
      "                                      chosen_weights  \n",
      "0  [0.00036845727135078606, 0.001854457453696649,...  \n",
      "1  [0.00038164913436785085, 0.0018613011635856221...  \n",
      "2  [0.0003601916167985284, 0.0018501718922842583,...  \n",
      "3  [0.009433293512383631, 0.00901590175594172, 0....  \n",
      "4  [0.009470811442392826, 0.00905476982730319, 0....  \n"
     ]
    }
   ],
   "source": [
    "# Grid search parameters playing with to see how results change\n",
    "alphas = [0.1, 0.5, 1.5]\n",
    "lambdas = [0.1, 1.0, 10.0]\n",
    "gammas = [0.01, 0.1, 1.0]\n",
    "results = []\n",
    "\n",
    "num_scenarios = len(enc_times)\n",
    "\n",
    "for lam_1 in lambdas:\n",
    "    for lam_2 in lambdas:\n",
    "        for lam_3 in lambdas:\n",
    "            for gamma in gammas:\n",
    "                for alpha in alphas:\n",
    "                    try:\n",
    "                        # NEW: define w inside the loop\n",
    "                        w = cp.Variable(num_scenarios)\n",
    "\n",
    "                        # Objective components\n",
    "                        Q_diag = enc_times + lam_1 * (1 - enc_strengths) + lam_2 * err_rates - lam_3 * integ_times\n",
    "                        Q_diag = np.maximum(Q_diag, 0)\n",
    "                        Q_matrix = np.diag(Q_diag)\n",
    "                        sec_perf_tradeoff = cp.quad_form(w, Q_matrix)\n",
    "\n",
    "                        c = cpu_usages + mem_usages\n",
    "                        resource_term = gamma * c @ w\n",
    "\n",
    "                        # L1 regularization for sparsity\n",
    "                        l1_term = alpha * cp.norm1(w)\n",
    "\n",
    "                        # Full objective\n",
    "                        obj = cp.Minimize(sec_perf_tradeoff + resource_term + l1_term)\n",
    "\n",
    "                        # Constraints\n",
    "                        constraints = [\n",
    "                            cp.sum(w) == 1,\n",
    "                            w >= 0,\n",
    "                            enc_strengths @ w >= 0.3\n",
    "                        ]\n",
    "\n",
    "                        # Solve\n",
    "                        prob = cp.Problem(obj, constraints)\n",
    "                        sol = prob.solve(solver=cp.SCS)\n",
    "\n",
    "                        if sol is not None and np.isfinite(sol):\n",
    "                            w_clean = np.clip(w.value, 0, 1)\n",
    "                            chosen_indexes = np.where(w_clean > 1e-4)[0]\n",
    "                            chosen_weights = w_clean[chosen_indexes]\n",
    "\n",
    "\n",
    "                            results.append({\n",
    "                                'lam_1': lam_1,\n",
    "                                'lam_2': lam_2,\n",
    "                                'lam_3': lam_3,\n",
    "                                'gamma': gamma,\n",
    "                                'alpha': alpha,\n",
    "                                'min_cost': sol,\n",
    "                                'nonzero_configs': len(chosen_indexes),\n",
    "                                'chosen_configs': chosen_indexes.tolist(),\n",
    "                                'chosen_weights': chosen_weights.tolist()\n",
    "                            })\n",
    "\n",
    "                    except Exception as e:\n",
    "                        print(f\"Skipped combo lam1={lam_1}, alpha={alpha}: {e}\")\n",
    "                        continue\n",
    "\n",
    "# Convert results to DataFrame\n",
    "results_df = pd.DataFrame(results)\n",
    "print(results_df.head())"
   ]
  },
  {
   "cell_type": "code",
   "execution_count": 7,
   "id": "9c8795b2-4918-4011-a43e-a6cfebb4b81f",
   "metadata": {},
   "outputs": [
    {
     "name": "stdout",
     "output_type": "stream",
     "text": [
      "\n",
      "🧠 Best Configuration Set — Min Cost: 0.10007712\n",
      "\n",
      "Config Index      Weight (w)    Enc. Time   Strength   Key Size\n",
      "-----------------------------------------------------------------\n",
      "1661                0.999291     1.079342       9.00      256.0\n",
      "\n",
      "📋 Full Rows from Original Data (Top Configs):\n",
      "   encryption_time  encryption_strength  error_rate  integrity_check_time  \\\n",
      "0         1.079342                    9    0.214857              3.487622   \n",
      "\n",
      "   cpu_usage  memory_usage  \n",
      "0  10.210532    102.027749  \n"
     ]
    }
   ],
   "source": [
    "# Get the best result (lowest cost)\n",
    "best_row = results_df.sort_values(\"min_cost\").iloc[0]\n",
    "indexes = best_row[\"chosen_configs\"]\n",
    "weights = best_row[\"chosen_weights\"]\n",
    "min_cost = best_row[\"min_cost\"]\n",
    "\n",
    "# Print min cost\n",
    "print(f\"\\n🧠 Best Configuration Set — Min Cost: {min_cost:.8f}\\n\")\n",
    "\n",
    "# Print table: index, weight, time, strength, key size\n",
    "print(f\"{'Config Index':<15} {'Weight (w)':>12} {'Enc. Time':>12} {'Strength':>10} {'Key Size':>10}\")\n",
    "print(\"-\" * 65)\n",
    "for idx, w_val in zip(indexes, weights):\n",
    "    row = clean_enc_data.iloc[idx]\n",
    "    enc_time = row[\"encryption_time\"]\n",
    "    strength = row[\"encryption_strength\"]\n",
    "    key_size = enc_data.iloc[idx][\"key_size\"]  # key_size was in original dataset\n",
    "    print(f\"{idx:<15} {w_val:>12.6f} {enc_time:>12.6f} {strength:>10.2f} {key_size:>10}\")\n",
    "\n",
    "# Optional: full row dump\n",
    "print(\"\\n📋 Full Rows from Original Data (Top Configs):\")\n",
    "chosen_configs = clean_enc_data.iloc[indexes]\n",
    "print(chosen_configs.reset_index(drop=True))\n"
   ]
  },
  {
   "cell_type": "code",
   "execution_count": 8,
   "id": "1c165d48-b7db-49c7-b5d5-20ebaea7e1e8",
   "metadata": {},
   "outputs": [
    {
     "name": "stdout",
     "output_type": "stream",
     "text": [
      "     lam_1  lam_2  lam_3  gamma  alpha  min_cost  nonzero_configs  \\\n",
      "0      0.1    0.1    0.1   0.01    0.1  0.101805               61   \n",
      "1      0.1    0.1    0.1   0.01    0.5  0.501798               61   \n",
      "2      0.1    0.1    0.1   0.01    1.5  1.501914               61   \n",
      "3      0.1    0.1    0.1   0.10    0.1  0.109675               30   \n",
      "4      0.1    0.1    0.1   0.10    0.5  0.509089               30   \n",
      "..     ...    ...    ...    ...    ...       ...              ...   \n",
      "238   10.0   10.0   10.0   0.10    0.5  0.500522                1   \n",
      "239   10.0   10.0   10.0   0.10    1.5  1.500503                1   \n",
      "240   10.0   10.0   10.0   1.00    0.1  0.104701                2   \n",
      "241   10.0   10.0   10.0   1.00    0.5  0.504722                2   \n",
      "242   10.0   10.0   10.0   1.00    1.5  1.504701                2   \n",
      "\n",
      "                                         top_3_configs  \n",
      "0    [(25, 0.00036845727135078606), (49, 0.00185445...  \n",
      "1    [(25, 0.00038164913436785085), (49, 0.00186130...  \n",
      "2    [(25, 0.0003601916167985284), (49, 0.001850171...  \n",
      "3    [(49, 0.009433293512383631), (405, 0.009015901...  \n",
      "4    [(49, 0.009470811442392826), (405, 0.009054769...  \n",
      "..                                                 ...  \n",
      "238                                      [(1661, 1.0)]  \n",
      "239                       [(1661, 0.9999750522758076)]  \n",
      "240  [(1661, 0.9997890507451318), (2707, 0.00021181...  \n",
      "241  [(1661, 0.9997582134570164), (2707, 0.00021184...  \n",
      "242  [(1661, 0.9997881120912747), (2707, 0.00021188...  \n",
      "\n",
      "[243 rows x 8 columns]\n"
     ]
    }
   ],
   "source": [
    "# Extract summary from the results\n",
    "summary = results_df[['lam_1', 'lam_2', 'lam_3', 'gamma', 'alpha', 'min_cost', 'chosen_configs', 'chosen_weights', 'nonzero_configs']].copy()\n",
    "\n",
    "# Get top 3 (config index, weight) pairs\n",
    "summary['top_3_configs'] = summary.apply(\n",
    "    lambda row: list(zip(row['chosen_configs'][:3], row['chosen_weights'][:3])),\n",
    "    axis=1\n",
    ")\n",
    "\n",
    "# Print first 10 rows of summary\n",
    "print(summary[['lam_1', 'lam_2', 'lam_3', 'gamma', 'alpha', 'min_cost', 'nonzero_configs', 'top_3_configs']])\n"
   ]
  },
  {
   "cell_type": "code",
   "execution_count": 9,
   "id": "4d5f0f25-ecfc-481e-b21f-12afe6b335df",
   "metadata": {},
   "outputs": [],
   "source": [
    "summary.to_csv(\"summary_hyperparam_results.csv\", index=False)"
   ]
  },
  {
   "cell_type": "code",
   "execution_count": null,
   "id": "aaa9f6b7-183f-473b-bad9-113dfd7d1f6a",
   "metadata": {},
   "outputs": [],
   "source": []
  }
 ],
 "metadata": {
  "kernelspec": {
   "display_name": "Python 3 (ipykernel)",
   "language": "python",
   "name": "python3"
  },
  "language_info": {
   "codemirror_mode": {
    "name": "ipython",
    "version": 3
   },
   "file_extension": ".py",
   "mimetype": "text/x-python",
   "name": "python",
   "nbconvert_exporter": "python",
   "pygments_lexer": "ipython3",
   "version": "3.12.8"
  }
 },
 "nbformat": 4,
 "nbformat_minor": 5
}

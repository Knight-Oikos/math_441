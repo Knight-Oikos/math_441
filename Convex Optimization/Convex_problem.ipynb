{
 "cells": [
  {
   "cell_type": "code",
   "execution_count": 1,
   "id": "40dd49e5-8d06-4f1d-90ba-172146317a97",
   "metadata": {},
   "outputs": [
    {
     "name": "stdout",
     "output_type": "stream",
     "text": [
      "Collecting mglearn\n",
      "  Using cached mglearn-0.2.0-py2.py3-none-any.whl.metadata (628 bytes)\n",
      "Requirement already satisfied: numpy in /opt/conda/lib/python3.12/site-packages (from mglearn) (1.26.4)\n",
      "Requirement already satisfied: matplotlib in /opt/conda/lib/python3.12/site-packages (from mglearn) (3.8.4)\n",
      "Requirement already satisfied: scikit-learn in /opt/conda/lib/python3.12/site-packages (from mglearn) (1.6.0)\n",
      "Requirement already satisfied: pandas in /opt/conda/lib/python3.12/site-packages (from mglearn) (2.2.3)\n",
      "Requirement already satisfied: pillow in /opt/conda/lib/python3.12/site-packages (from mglearn) (10.4.0)\n",
      "Requirement already satisfied: cycler in /opt/conda/lib/python3.12/site-packages (from mglearn) (0.12.1)\n",
      "Requirement already satisfied: imageio in /opt/conda/lib/python3.12/site-packages (from mglearn) (2.36.1)\n",
      "Requirement already satisfied: joblib in /opt/conda/lib/python3.12/site-packages (from mglearn) (1.4.2)\n",
      "Requirement already satisfied: contourpy>=1.0.1 in /opt/conda/lib/python3.12/site-packages (from matplotlib->mglearn) (1.3.1)\n",
      "Requirement already satisfied: fonttools>=4.22.0 in /opt/conda/lib/python3.12/site-packages (from matplotlib->mglearn) (4.55.3)\n",
      "Requirement already satisfied: kiwisolver>=1.3.1 in /opt/conda/lib/python3.12/site-packages (from matplotlib->mglearn) (1.4.7)\n",
      "Requirement already satisfied: packaging>=20.0 in /opt/conda/lib/python3.12/site-packages (from matplotlib->mglearn) (24.2)\n",
      "Requirement already satisfied: pyparsing>=2.3.1 in /opt/conda/lib/python3.12/site-packages (from matplotlib->mglearn) (3.2.0)\n",
      "Requirement already satisfied: python-dateutil>=2.7 in /opt/conda/lib/python3.12/site-packages (from matplotlib->mglearn) (2.9.0.post0)\n",
      "Requirement already satisfied: pytz>=2020.1 in /opt/conda/lib/python3.12/site-packages (from pandas->mglearn) (2024.1)\n",
      "Requirement already satisfied: tzdata>=2022.7 in /opt/conda/lib/python3.12/site-packages (from pandas->mglearn) (2024.2)\n",
      "Requirement already satisfied: scipy>=1.6.0 in /opt/conda/lib/python3.12/site-packages (from scikit-learn->mglearn) (1.14.1)\n",
      "Requirement already satisfied: threadpoolctl>=3.1.0 in /opt/conda/lib/python3.12/site-packages (from scikit-learn->mglearn) (3.5.0)\n",
      "Requirement already satisfied: six>=1.5 in /opt/conda/lib/python3.12/site-packages (from python-dateutil>=2.7->matplotlib->mglearn) (1.17.0)\n",
      "Using cached mglearn-0.2.0-py2.py3-none-any.whl (581 kB)\n",
      "Installing collected packages: mglearn\n",
      "Successfully installed mglearn-0.2.0\n",
      "Note: you may need to restart the kernel to use updated packages.\n",
      "Collecting cvxpy\n",
      "  Using cached cvxpy-1.6.4-cp312-cp312-manylinux_2_17_x86_64.manylinux2014_x86_64.whl.metadata (9.3 kB)\n",
      "Collecting osqp>=0.6.2 (from cvxpy)\n",
      "  Using cached osqp-1.0.3-cp312-cp312-manylinux_2_17_x86_64.manylinux2014_x86_64.whl.metadata (2.1 kB)\n",
      "Collecting clarabel>=0.5.0 (from cvxpy)\n",
      "  Using cached clarabel-0.10.0-cp39-abi3-manylinux_2_17_x86_64.manylinux2014_x86_64.whl.metadata (4.8 kB)\n",
      "Collecting scs>=3.2.4.post1 (from cvxpy)\n",
      "  Using cached scs-3.2.7.post2-cp312-cp312-manylinux_2_17_x86_64.manylinux2014_x86_64.whl.metadata (2.1 kB)\n",
      "Requirement already satisfied: numpy>=1.21.6 in /opt/conda/lib/python3.12/site-packages (from cvxpy) (1.26.4)\n",
      "Requirement already satisfied: scipy>=1.11.0 in /opt/conda/lib/python3.12/site-packages (from cvxpy) (1.14.1)\n",
      "Requirement already satisfied: jinja2 in /opt/conda/lib/python3.12/site-packages (from osqp>=0.6.2->cvxpy) (3.1.4)\n",
      "Requirement already satisfied: setuptools in /opt/conda/lib/python3.12/site-packages (from osqp>=0.6.2->cvxpy) (75.6.0)\n",
      "Requirement already satisfied: joblib in /opt/conda/lib/python3.12/site-packages (from osqp>=0.6.2->cvxpy) (1.4.2)\n",
      "Requirement already satisfied: MarkupSafe>=2.0 in /opt/conda/lib/python3.12/site-packages (from jinja2->osqp>=0.6.2->cvxpy) (3.0.2)\n",
      "Using cached cvxpy-1.6.4-cp312-cp312-manylinux_2_17_x86_64.manylinux2014_x86_64.whl (1.2 MB)\n",
      "Using cached clarabel-0.10.0-cp39-abi3-manylinux_2_17_x86_64.manylinux2014_x86_64.whl (1.0 MB)\n",
      "Using cached osqp-1.0.3-cp312-cp312-manylinux_2_17_x86_64.manylinux2014_x86_64.whl (343 kB)\n",
      "Using cached scs-3.2.7.post2-cp312-cp312-manylinux_2_17_x86_64.manylinux2014_x86_64.whl (10.4 MB)\n",
      "Installing collected packages: scs, osqp, clarabel, cvxpy\n",
      "Successfully installed clarabel-0.10.0 cvxpy-1.6.4 osqp-1.0.3 scs-3.2.7.post2\n",
      "Note: you may need to restart the kernel to use updated packages.\n"
     ]
    }
   ],
   "source": [
    "%pip install mglearn\n",
    "%pip install cvxpy"
   ]
  },
  {
   "cell_type": "code",
   "execution_count": 2,
   "id": "83010dd4-0df4-4b30-b9e1-ff2db23ec6cb",
   "metadata": {},
   "outputs": [],
   "source": [
    "#Libraries\n",
    "import numpy as np\n",
    "import matplotlib.pyplot as plt\n",
    "import scipy.linalg as la\n",
    "import pandas as pd\n",
    "import cvxpy as cp\n",
    "import mglearn\n",
    "import math\n",
    "from sklearn.preprocessing import MinMaxScaler"
   ]
  },
  {
   "cell_type": "code",
   "execution_count": 3,
   "id": "ced3cc5a-e6da-4849-a3b0-a1f5c11a1461",
   "metadata": {},
   "outputs": [
    {
     "name": "stdout",
     "output_type": "stream",
     "text": [
      "Index(['packet_size', 'transmission_time', 'latency', 'jitter', 'packet_loss',\n",
      "       'network_load', 'throughput', 'bandwidth_usage', 'encryption_time',\n",
      "       'decryption_time', 'key_size', 'block_size', 'cpu_usage',\n",
      "       'memory_usage', 'encryption_strength', 'error_rate',\n",
      "       'integrity_check_time', 'retransmission_count', 'packet_order',\n",
      "       'traffic_type'],\n",
      "      dtype='object')\n"
     ]
    }
   ],
   "source": [
    "#read data into a var and print column names\n",
    "#data: https://www.kaggle.com/datasets/programmer3/real-time-network-traffic-encryption-dataset/data\n",
    "enc_data = pd.read_csv('traffic_encryption_data.csv')#full set\n",
    "voip_data = pd.read_csv('Voip_data.csv')\n",
    "vid_data = pd.read_csv('Video_data.csv')\n",
    "cloud_data = pd.read_csv('Cloud_data.csv')\n",
    "print(enc_data.columns)"
   ]
  },
  {
   "cell_type": "code",
   "execution_count": 4,
   "id": "68bc7188-5265-4beb-b757-8ae7dab21097",
   "metadata": {},
   "outputs": [],
   "source": [
    "#selected columns raw and to be normalized\n",
    "selected_norm_cols = ['encryption_time','encryption_strength','error_rate','integrity_check_time','cpu_usage','memory_usage']\n",
    "\n",
    "selected_raw_cols = ['packet_size','latency','jitter','packet_loss','throughput']"
   ]
  },
  {
   "cell_type": "code",
   "execution_count": 5,
   "id": "4ccc54af-6347-4278-a3dc-740eddd339bb",
   "metadata": {},
   "outputs": [],
   "source": [
    "#diagonal Q matrix function\n",
    "#err unreliable output more stable dependable configurations\n",
    "#integ defends against tampering and file attacks\n",
    "def Q_matrix_const(times, strengths, err, integ, lam_1=1.0, lam_2=1.0, lam_3=1.0):\n",
    "    Q_diag = times + lam_1 * (1 - strengths) + lam_2 * err - lam_3 * integ\n",
    "    Q_diag = np.maximum(Q_diag, 0) \n",
    "    Q_matrix = np.diag(Q_diag)\n",
    "    return Q_matrix"
   ]
  },
  {
   "cell_type": "code",
   "execution_count": 6,
   "id": "87ffa425-0d2c-4717-9303-d6cb66771e28",
   "metadata": {},
   "outputs": [],
   "source": [
    "#gamma weight of resource cost\n",
    "def resource_cost(cpu, mem, w, gamma=1.0):\n",
    "    c = cpu + mem\n",
    "    return gamma * c @ w"
   ]
  },
  {
   "cell_type": "code",
   "execution_count": 7,
   "id": "fb1cf5b2-7138-465e-bfff-0afdbd663763",
   "metadata": {},
   "outputs": [],
   "source": [
    "#size categories function\n",
    "def size_categories(df, size_col = 'packet_size'):\n",
    "    small = 500\n",
    "    medium = 1000\n",
    "    return {\n",
    "            'Small': df[df[size_col] <= small],\n",
    "            'Medium': df[(df[size_col] > small) & (df[size_col] <= medium)],\n",
    "            'Large': df[df[size_col] > medium]\n",
    "        }\n"
   ]
  },
  {
   "cell_type": "code",
   "execution_count": 22,
   "id": "a58fb07a-4f03-498d-8c8a-84db5d3264cf",
   "metadata": {
    "scrolled": true
   },
   "outputs": [],
   "source": [
    "def solve_and_report(enc_data, data_type=None, alpha=1.0, gamma=1.0, lam_1=1.0, lam_2=1.0, lam_3=1.0):\n",
    "    #packet size categories\n",
    "    packet_groups = size_categories(enc_data, size_col='packet_size') \n",
    "\n",
    "    #solve and print\n",
    "    for group_name, group_df in packet_groups.items():\n",
    "        print(f\"\\nSolving for Packet Size Group: {group_name}\")\n",
    "\n",
    "        #normalize only selected features and keep raw ones\n",
    "        norm_subset = group_df[selected_norm_cols]\n",
    "        scaler = MinMaxScaler()\n",
    "        normalized_part = pd.DataFrame(scaler.fit_transform(norm_subset), columns=selected_norm_cols)\n",
    "        raw_subset = group_df[list(selected_raw_cols)].reset_index(drop=True)\n",
    "        normalized = pd.concat([normalized_part, raw_subset], axis=1)\n",
    "\n",
    "        #extract normalized data\n",
    "        enc_times = normalized['encryption_time'].values\n",
    "        enc_strengths = normalized['encryption_strength'].values\n",
    "        err_rates = normalized['error_rate'].values \n",
    "        integ_times = normalized['integrity_check_time'].values\n",
    "        cpu_usages = normalized['cpu_usage'].values\n",
    "        mem_usages = normalized['memory_usage'].values\n",
    "\n",
    "        num_scenarios = len(normalized)\n",
    "        if num_scenarios == 0:\n",
    "            print(f\"No data in {group_name} category.\")\n",
    "            continue\n",
    "\n",
    "        #decision variables\n",
    "        w = cp.Variable(num_scenarios)\n",
    "        \n",
    "        #equation generation\n",
    "        Q = Q_matrix_const(enc_times, enc_strengths, err_rates, integ_times, lam_1, lam_2, lam_3)\n",
    "        security_speed_tradeoff = cp.quad_form(w, Q)\n",
    "        resource_term = resource_cost(cpu_usages, mem_usages, w, gamma)\n",
    "        l1_term = alpha * cp.norm1(w)\n",
    "\n",
    "        #base constraints\n",
    "        base_constraints = [\n",
    "            cp.sum(w) == 1,\n",
    "            w >= 0,\n",
    "            w <= 1,\n",
    "            enc_strengths @ w >= 0.0\n",
    "        ]\n",
    "\n",
    "        #traffic-type-specific constraints\n",
    "        if data_type == 'VoIP':\n",
    "            latency = normalized['latency'].values\n",
    "            jitter = normalized['jitter'].values\n",
    "            base_constraints += [\n",
    "                latency @ w <= 50, #average time for a packet to reach destination. low for speech flow\n",
    "                jitter @ w <= 5 #variation in delay want consistent to prevent voice distortion.\n",
    "            ]\n",
    "        elif data_type == 'Video':\n",
    "            throughput = normalized['throughput'].values\n",
    "            error_rate = normalized['error_rate'].values\n",
    "            base_constraints += [\n",
    "                throughput @ w >= 400, #how much data can be sent per second\n",
    "                error_rate @ w <= 1.5 #percentage of corrupt packets lower to preserve video quality\n",
    "            ]\n",
    "        elif data_type == 'Cloud':\n",
    "            packet_loss = normalized['packet_loss'].values #data loss\n",
    "            base_constraints += [\n",
    "                packet_loss @ w <= 2.0, #packets never arrive issues with file integrity/ data loss\n",
    "            ]\n",
    "\n",
    "        #solve objective\n",
    "        #obj = Min(w^TQw + c^Tw)\n",
    "        obj = cp.Minimize(security_speed_tradeoff + resource_term + l1_term)\n",
    "        prob = cp.Problem(obj, base_constraints)\n",
    "        sol = prob.solve(solver=cp.SCS)\n",
    "        print(f\"Minimum Cost: {sol:.6f}\" if sol else \"No solution\")\n",
    "\n",
    "        #print results\n",
    "        if sol is not None and np.isfinite(sol):\n",
    "            w_values = np.clip(w.value, 0, 1)\n",
    "            top_idxs = np.argsort(w_values)[-3:][::-1]\n",
    "\n",
    "            print(f\"\\nTop 3 Configurations ({group_name}):\")\n",
    "            print(f\"{'Index':<10}{'Weight':>10}{'Enc Time':>12}{'Strength':>12}{'Key Size':>10}{'Packet Size':>15}{'CPU Usage':>12}{'Memory Usage':>15}\")\n",
    "\n",
    "            unnorm_values = pd.DataFrame(scaler.inverse_transform(normalized_part),columns=selected_norm_cols)\n",
    "            for idx in top_idxs:\n",
    "                row = unnorm_values.iloc[idx]\n",
    "                raw_row = raw_subset.iloc[idx]\n",
    "                orig_row = group_df.iloc[idx]\n",
    "                #maybe unnormalize the values for print out exclusively\n",
    "                print(f\"{idx:<10}{w_values[idx]:>10.6f}{row['encryption_time']:>12.2f}\"\n",
    "                      f\"{row['encryption_strength']:>12.2f}{orig_row['key_size']:>10}\"\n",
    "                      f\"{raw_row['packet_size']:>15}{row['cpu_usage']:>12.2f}{row['memory_usage']:>15.2f}\")\n",
    "        else:\n",
    "            print(\"No solution for this group.\")"
   ]
  },
  {
   "cell_type": "code",
   "execution_count": 23,
   "id": "aaa9f6b7-183f-473b-bad9-113dfd7d1f6a",
   "metadata": {},
   "outputs": [
    {
     "name": "stdout",
     "output_type": "stream",
     "text": [
      "\n",
      "Solving for Packet Size Group: Small\n",
      "Minimum Cost: 1.003538\n",
      "\n",
      "Top 3 Configurations (Small):\n",
      "Index         Weight    Enc Time    Strength  Key Size    Packet Size   CPU Usage   Memory Usage\n",
      "452         1.000000        1.08        9.00     256.0          384.0       10.21         102.03\n",
      "552         0.000000        5.31       10.00     256.0          402.0       12.83         289.19\n",
      "342         0.000000        0.66       10.00     256.0          227.0       27.05         130.56\n",
      "\n",
      "Solving for Packet Size Group: Medium\n",
      "Minimum Cost: 1.081887\n",
      "\n",
      "Top 3 Configurations (Medium):\n",
      "Index         Weight    Enc Time    Strength  Key Size    Packet Size   CPU Usage   Memory Usage\n",
      "203         0.561602        3.42        9.00     128.0          798.0       10.81         131.62\n",
      "16          0.137127        4.68        5.00     192.0          700.0       11.20         127.75\n",
      "602         0.083571        0.69        7.00     128.0          792.0       13.21         163.74\n",
      "\n",
      "Solving for Packet Size Group: Large\n",
      "Minimum Cost: 1.114583\n",
      "\n",
      "Top 3 Configurations (Large):\n",
      "Index         Weight    Enc Time    Strength  Key Size    Packet Size   CPU Usage   Memory Usage\n",
      "995         0.532752        5.82        8.00     192.0         1242.0       13.45         163.05\n",
      "1013        0.082746        4.27        4.00     128.0         1119.0       10.18         100.54\n",
      "562         0.068109        5.56        9.00     256.0         1276.0       14.34         146.68\n"
     ]
    }
   ],
   "source": [
    "#w^TQw, where Q = diag(T_i + lam_1 * (1 - S_i) + lam_2 * E_i - lam_3 * I_i)\n",
    "#T_i encryption time, S_i encryption strength, E_i error rate, I_i integrity check\n",
    "\n",
    "# lam_1 weight of encryption strength pen\n",
    "# lam_2 weight of error rate pen\n",
    "# lam_3 weight of integrity reward\n",
    "# alpha weight of L1 spread of the w data\n",
    "# gamma weight of resource cost\n",
    "# input a constraint can add if need an extra constraint\n",
    "# enc_data, data_type=None, alpha=1.0, gamma=1.0, lam_1=1.0, lam_2=1.0, lam_3=1.0\n",
    "solve_and_report(enc_data)"
   ]
  },
  {
   "cell_type": "code",
   "execution_count": 24,
   "id": "a3a30a06-2739-4d06-9749-f6cd90df1352",
   "metadata": {},
   "outputs": [
    {
     "name": "stdout",
     "output_type": "stream",
     "text": [
      "\n",
      "Solving for Packet Size Group: Small\n",
      "Minimum Cost: 1.341317\n",
      "\n",
      "Top 3 Configurations (Small):\n",
      "Index         Weight    Enc Time    Strength  Key Size    Packet Size   CPU Usage   Memory Usage\n",
      "198         0.359546        2.31        8.00     192.0          142.0       10.72         320.32\n",
      "186         0.174227        4.56        9.00     128.0          202.0       18.81         292.89\n",
      "135         0.081324        8.31        2.00     256.0          175.0       23.74         139.63\n",
      "\n",
      "Solving for Packet Size Group: Medium\n",
      "Minimum Cost: 1.116604\n",
      "\n",
      "Top 3 Configurations (Medium):\n",
      "Index         Weight    Enc Time    Strength  Key Size    Packet Size   CPU Usage   Memory Usage\n",
      "203         0.514394        3.42        9.00     128.0          798.0       10.81         131.62\n",
      "147         0.168072        4.01        3.00     128.0          983.0       14.15         100.16\n",
      "245         0.130722        2.84        6.00     256.0          639.0       11.00         236.98\n",
      "\n",
      "Solving for Packet Size Group: Large\n",
      "Minimum Cost: 1.174244\n",
      "\n",
      "Top 3 Configurations (Large):\n",
      "Index         Weight    Enc Time    Strength  Key Size    Packet Size   CPU Usage   Memory Usage\n",
      "58          0.379930        4.68       10.00     256.0         1454.0       15.18         171.23\n",
      "153         0.277425        0.62        7.00     256.0         1091.0       19.43         187.69\n",
      "321         0.094398        4.49       10.00     192.0         1196.0       18.43         128.89\n"
     ]
    }
   ],
   "source": [
    "#voip solve and results\n",
    "solve_and_report(voip_data, data_type='VoIP')"
   ]
  },
  {
   "cell_type": "code",
   "execution_count": 25,
   "id": "e435e535-f5ea-4de6-ac3f-34c165249f18",
   "metadata": {},
   "outputs": [
    {
     "name": "stdout",
     "output_type": "stream",
     "text": [
      "\n",
      "Solving for Packet Size Group: Small\n",
      "Minimum Cost: 1.064385\n",
      "\n",
      "Top 3 Configurations (Small):\n",
      "Index         Weight    Enc Time    Strength  Key Size    Packet Size   CPU Usage   Memory Usage\n",
      "187         0.753384        1.08        9.00     256.0          384.0       10.21         102.03\n",
      "213         0.078676        8.68        3.00     192.0          500.0       12.41         219.31\n",
      "5           0.057532        5.28        5.00     256.0          242.0       17.42         203.36\n",
      "\n",
      "Solving for Packet Size Group: Medium\n",
      "Minimum Cost: 1.107765\n",
      "\n",
      "Top 3 Configurations (Medium):\n",
      "Index         Weight    Enc Time    Strength  Key Size    Packet Size   CPU Usage   Memory Usage\n",
      "232         0.978582        0.69        7.00     128.0          792.0       13.21         163.74\n",
      "184         0.022299        7.83        1.00     192.0          656.0       11.61         139.40\n",
      "273         0.000025        0.72        2.00     256.0          854.0       60.71         146.22\n",
      "\n",
      "Solving for Packet Size Group: Large\n",
      "Minimum Cost: 1.204767\n",
      "\n",
      "Top 3 Configurations (Large):\n",
      "Index         Weight    Enc Time    Strength  Key Size    Packet Size   CPU Usage   Memory Usage\n",
      "254         0.497212        1.25        9.00     256.0         1088.0       18.11         219.28\n",
      "197         0.283538        5.56        9.00     256.0         1276.0       14.34         146.68\n",
      "152         0.090429        4.40        9.00     256.0         1075.0       12.31         114.55\n"
     ]
    }
   ],
   "source": [
    "#vid solve and results\n",
    "solve_and_report(vid_data, data_type='Video')"
   ]
  },
  {
   "cell_type": "code",
   "execution_count": 26,
   "id": "0aa7d390-0e38-48e7-99fb-c67408f9a4bc",
   "metadata": {},
   "outputs": [
    {
     "name": "stdout",
     "output_type": "stream",
     "text": [
      "\n",
      "Solving for Packet Size Group: Small\n",
      "Minimum Cost: 1.247910\n",
      "\n",
      "Top 3 Configurations (Small):\n",
      "Index         Weight    Enc Time    Strength  Key Size    Packet Size   CPU Usage   Memory Usage\n",
      "155         0.508491        3.61        4.00     256.0          290.0       25.00         116.82\n",
      "15          0.158633        0.93        9.00     192.0          483.0       21.49         274.43\n",
      "116         0.093704        2.63        4.00     128.0          343.0       23.50         122.27\n",
      "\n",
      "Solving for Packet Size Group: Medium\n",
      "Minimum Cost: 1.110535\n",
      "\n",
      "Top 3 Configurations (Medium):\n",
      "Index         Weight    Enc Time    Strength  Key Size    Packet Size   CPU Usage   Memory Usage\n",
      "139         0.805660        4.84       10.00     256.0          785.0       11.45         194.01\n",
      "85          0.085251        4.20       10.00     128.0          869.0       14.56         119.27\n",
      "313         0.032241        4.40        3.00     256.0          575.0       10.44         136.18\n",
      "\n",
      "Solving for Packet Size Group: Large\n",
      "Minimum Cost: 1.117381\n",
      "\n",
      "Top 3 Configurations (Large):\n",
      "Index         Weight    Enc Time    Strength  Key Size    Packet Size   CPU Usage   Memory Usage\n",
      "160         0.736087        5.82        8.00     192.0         1242.0       13.45         163.05\n",
      "246         0.085027        4.27        4.00     128.0         1119.0       10.18         100.54\n",
      "199         0.041276        5.34        7.00     128.0         1193.0       11.18         117.89\n"
     ]
    }
   ],
   "source": [
    "#cloud solve and results\n",
    "solve_and_report(cloud_data, data_type='Cloud')"
   ]
  },
  {
   "cell_type": "code",
   "execution_count": null,
   "id": "cb8d15a0-fcfb-4772-94fa-eca0ffa4a426",
   "metadata": {},
   "outputs": [],
   "source": []
  }
 ],
 "metadata": {
  "kernelspec": {
   "display_name": "Python 3 (ipykernel)",
   "language": "python",
   "name": "python3"
  },
  "language_info": {
   "codemirror_mode": {
    "name": "ipython",
    "version": 3
   },
   "file_extension": ".py",
   "mimetype": "text/x-python",
   "name": "python",
   "nbconvert_exporter": "python",
   "pygments_lexer": "ipython3",
   "version": "3.12.8"
  }
 },
 "nbformat": 4,
 "nbformat_minor": 5
}
